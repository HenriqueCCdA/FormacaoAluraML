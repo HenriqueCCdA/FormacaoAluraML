{
  "nbformat": 4,
  "nbformat_minor": 0,
  "metadata": {
    "colab": {
      "name": "Lidando_com_dados_de_muitas_dimensões.ipynb",
      "provenance": [],
      "toc_visible": true,
      "authorship_tag": "ABX9TyMlj+cZtuyISGJMiZWFssJC",
      "include_colab_link": true
    },
    "kernelspec": {
      "name": "python3",
      "display_name": "Python 3"
    },
    "language_info": {
      "name": "python"
    }
  },
  "cells": [
    {
      "cell_type": "markdown",
      "metadata": {
        "id": "view-in-github",
        "colab_type": "text"
      },
      "source": [
        "<a href=\"https://colab.research.google.com/github/HenriqueCCdA/FormacaoAluraML/blob/main/Lidando_com_dados_de_muitas_dimensoes/notebook/Lidando_com_dados_de_muitas_dimens%C3%B5es.ipynb\" target=\"_parent\"><img src=\"https://colab.research.google.com/assets/colab-badge.svg\" alt=\"Open In Colab\"/></a>"
      ]
    },
    {
      "cell_type": "markdown",
      "metadata": {
        "id": "1AlaDPjwXCD8"
      },
      "source": [
        "# Curso: Lidando com dados de muitas dimensões."
      ]
    },
    {
      "cell_type": "code",
      "metadata": {
        "id": "8u8QJOJJZBH4"
      },
      "source": [
        "import pandas as pd"
      ],
      "execution_count": 2,
      "outputs": []
    },
    {
      "cell_type": "markdown",
      "metadata": {
        "id": "lkYtgZ1-XFW5"
      },
      "source": [
        "# Aula 1)"
      ]
    },
    {
      "cell_type": "code",
      "metadata": {
        "colab": {
          "base_uri": "https://localhost:8080/",
          "height": 222
        },
        "id": "POhiVNUXXIrd",
        "outputId": "6f04db23-607b-4236-def0-11f0cc463dc5"
      },
      "source": [
        "url = 'https://raw.githubusercontent.com/HenriqueCCdA/FormacaoAluraML/main/Lidando_com_dados_de_muitas_dimensoes/dados/exames.csv'\n",
        "\n",
        "resultados_exames = pd.read_csv(url)\n",
        "\n",
        "resultados_exames.head(5)"
      ],
      "execution_count": 3,
      "outputs": [
        {
          "output_type": "execute_result",
          "data": {
            "text/html": [
              "<div>\n",
              "<style scoped>\n",
              "    .dataframe tbody tr th:only-of-type {\n",
              "        vertical-align: middle;\n",
              "    }\n",
              "\n",
              "    .dataframe tbody tr th {\n",
              "        vertical-align: top;\n",
              "    }\n",
              "\n",
              "    .dataframe thead th {\n",
              "        text-align: right;\n",
              "    }\n",
              "</style>\n",
              "<table border=\"1\" class=\"dataframe\">\n",
              "  <thead>\n",
              "    <tr style=\"text-align: right;\">\n",
              "      <th></th>\n",
              "      <th>id</th>\n",
              "      <th>diagnostico</th>\n",
              "      <th>exame_1</th>\n",
              "      <th>exame_2</th>\n",
              "      <th>exame_3</th>\n",
              "      <th>exame_4</th>\n",
              "      <th>exame_5</th>\n",
              "      <th>exame_6</th>\n",
              "      <th>exame_7</th>\n",
              "      <th>exame_8</th>\n",
              "      <th>exame_9</th>\n",
              "      <th>exame_10</th>\n",
              "      <th>exame_11</th>\n",
              "      <th>exame_12</th>\n",
              "      <th>exame_13</th>\n",
              "      <th>exame_14</th>\n",
              "      <th>exame_15</th>\n",
              "      <th>exame_16</th>\n",
              "      <th>exame_17</th>\n",
              "      <th>exame_18</th>\n",
              "      <th>exame_19</th>\n",
              "      <th>exame_20</th>\n",
              "      <th>exame_21</th>\n",
              "      <th>exame_22</th>\n",
              "      <th>exame_23</th>\n",
              "      <th>exame_24</th>\n",
              "      <th>exame_25</th>\n",
              "      <th>exame_26</th>\n",
              "      <th>exame_27</th>\n",
              "      <th>exame_28</th>\n",
              "      <th>exame_29</th>\n",
              "      <th>exame_30</th>\n",
              "      <th>exame_31</th>\n",
              "      <th>exame_32</th>\n",
              "      <th>exame_33</th>\n",
              "    </tr>\n",
              "  </thead>\n",
              "  <tbody>\n",
              "    <tr>\n",
              "      <th>0</th>\n",
              "      <td>842302</td>\n",
              "      <td>M</td>\n",
              "      <td>17.99</td>\n",
              "      <td>10.38</td>\n",
              "      <td>122.80</td>\n",
              "      <td>103.78</td>\n",
              "      <td>1001.0</td>\n",
              "      <td>0.11840</td>\n",
              "      <td>0.27760</td>\n",
              "      <td>0.3001</td>\n",
              "      <td>0.14710</td>\n",
              "      <td>0.2419</td>\n",
              "      <td>0.07871</td>\n",
              "      <td>1.0950</td>\n",
              "      <td>0.9053</td>\n",
              "      <td>8.589</td>\n",
              "      <td>153.40</td>\n",
              "      <td>0.006399</td>\n",
              "      <td>0.04904</td>\n",
              "      <td>0.05373</td>\n",
              "      <td>0.01587</td>\n",
              "      <td>0.03003</td>\n",
              "      <td>0.006193</td>\n",
              "      <td>25.38</td>\n",
              "      <td>17.33</td>\n",
              "      <td>184.60</td>\n",
              "      <td>2019.0</td>\n",
              "      <td>0.1622</td>\n",
              "      <td>0.6656</td>\n",
              "      <td>0.7119</td>\n",
              "      <td>0.786</td>\n",
              "      <td>0.2654</td>\n",
              "      <td>0.4601</td>\n",
              "      <td>0.11890</td>\n",
              "      <td>NaN</td>\n",
              "    </tr>\n",
              "    <tr>\n",
              "      <th>1</th>\n",
              "      <td>842517</td>\n",
              "      <td>M</td>\n",
              "      <td>20.57</td>\n",
              "      <td>17.77</td>\n",
              "      <td>132.90</td>\n",
              "      <td>103.78</td>\n",
              "      <td>1326.0</td>\n",
              "      <td>0.08474</td>\n",
              "      <td>0.07864</td>\n",
              "      <td>0.0869</td>\n",
              "      <td>0.07017</td>\n",
              "      <td>0.1812</td>\n",
              "      <td>0.05667</td>\n",
              "      <td>0.5435</td>\n",
              "      <td>0.7339</td>\n",
              "      <td>3.398</td>\n",
              "      <td>74.08</td>\n",
              "      <td>0.005225</td>\n",
              "      <td>0.01308</td>\n",
              "      <td>0.01860</td>\n",
              "      <td>0.01340</td>\n",
              "      <td>0.01389</td>\n",
              "      <td>0.003532</td>\n",
              "      <td>24.99</td>\n",
              "      <td>23.41</td>\n",
              "      <td>158.80</td>\n",
              "      <td>1956.0</td>\n",
              "      <td>0.1238</td>\n",
              "      <td>0.1866</td>\n",
              "      <td>0.2416</td>\n",
              "      <td>0.786</td>\n",
              "      <td>0.1860</td>\n",
              "      <td>0.2750</td>\n",
              "      <td>0.08902</td>\n",
              "      <td>NaN</td>\n",
              "    </tr>\n",
              "    <tr>\n",
              "      <th>2</th>\n",
              "      <td>84300903</td>\n",
              "      <td>M</td>\n",
              "      <td>19.69</td>\n",
              "      <td>21.25</td>\n",
              "      <td>130.00</td>\n",
              "      <td>103.78</td>\n",
              "      <td>1203.0</td>\n",
              "      <td>0.10960</td>\n",
              "      <td>0.15990</td>\n",
              "      <td>0.1974</td>\n",
              "      <td>0.12790</td>\n",
              "      <td>0.2069</td>\n",
              "      <td>0.05999</td>\n",
              "      <td>0.7456</td>\n",
              "      <td>0.7869</td>\n",
              "      <td>4.585</td>\n",
              "      <td>94.03</td>\n",
              "      <td>0.006150</td>\n",
              "      <td>0.04006</td>\n",
              "      <td>0.03832</td>\n",
              "      <td>0.02058</td>\n",
              "      <td>0.02250</td>\n",
              "      <td>0.004571</td>\n",
              "      <td>23.57</td>\n",
              "      <td>25.53</td>\n",
              "      <td>152.50</td>\n",
              "      <td>1709.0</td>\n",
              "      <td>0.1444</td>\n",
              "      <td>0.4245</td>\n",
              "      <td>0.4504</td>\n",
              "      <td>0.786</td>\n",
              "      <td>0.2430</td>\n",
              "      <td>0.3613</td>\n",
              "      <td>0.08758</td>\n",
              "      <td>NaN</td>\n",
              "    </tr>\n",
              "    <tr>\n",
              "      <th>3</th>\n",
              "      <td>84348301</td>\n",
              "      <td>M</td>\n",
              "      <td>11.42</td>\n",
              "      <td>20.38</td>\n",
              "      <td>77.58</td>\n",
              "      <td>103.78</td>\n",
              "      <td>386.1</td>\n",
              "      <td>0.14250</td>\n",
              "      <td>0.28390</td>\n",
              "      <td>0.2414</td>\n",
              "      <td>0.10520</td>\n",
              "      <td>0.2597</td>\n",
              "      <td>0.09744</td>\n",
              "      <td>0.4956</td>\n",
              "      <td>1.1560</td>\n",
              "      <td>3.445</td>\n",
              "      <td>27.23</td>\n",
              "      <td>0.009110</td>\n",
              "      <td>0.07458</td>\n",
              "      <td>0.05661</td>\n",
              "      <td>0.01867</td>\n",
              "      <td>0.05963</td>\n",
              "      <td>0.009208</td>\n",
              "      <td>14.91</td>\n",
              "      <td>26.50</td>\n",
              "      <td>98.87</td>\n",
              "      <td>567.7</td>\n",
              "      <td>0.2098</td>\n",
              "      <td>0.8663</td>\n",
              "      <td>0.6869</td>\n",
              "      <td>0.786</td>\n",
              "      <td>0.2575</td>\n",
              "      <td>0.6638</td>\n",
              "      <td>0.17300</td>\n",
              "      <td>NaN</td>\n",
              "    </tr>\n",
              "    <tr>\n",
              "      <th>4</th>\n",
              "      <td>84358402</td>\n",
              "      <td>M</td>\n",
              "      <td>20.29</td>\n",
              "      <td>14.34</td>\n",
              "      <td>135.10</td>\n",
              "      <td>103.78</td>\n",
              "      <td>1297.0</td>\n",
              "      <td>0.10030</td>\n",
              "      <td>0.13280</td>\n",
              "      <td>0.1980</td>\n",
              "      <td>0.10430</td>\n",
              "      <td>0.1809</td>\n",
              "      <td>0.05883</td>\n",
              "      <td>0.7572</td>\n",
              "      <td>0.7813</td>\n",
              "      <td>5.438</td>\n",
              "      <td>94.44</td>\n",
              "      <td>0.011490</td>\n",
              "      <td>0.02461</td>\n",
              "      <td>0.05688</td>\n",
              "      <td>0.01885</td>\n",
              "      <td>0.01756</td>\n",
              "      <td>0.005115</td>\n",
              "      <td>22.54</td>\n",
              "      <td>16.67</td>\n",
              "      <td>152.20</td>\n",
              "      <td>1575.0</td>\n",
              "      <td>0.1374</td>\n",
              "      <td>0.2050</td>\n",
              "      <td>0.4000</td>\n",
              "      <td>0.786</td>\n",
              "      <td>0.1625</td>\n",
              "      <td>0.2364</td>\n",
              "      <td>0.07678</td>\n",
              "      <td>0.854454</td>\n",
              "    </tr>\n",
              "  </tbody>\n",
              "</table>\n",
              "</div>"
            ],
            "text/plain": [
              "         id diagnostico  exame_1  ...  exame_31  exame_32  exame_33\n",
              "0    842302           M    17.99  ...    0.4601   0.11890       NaN\n",
              "1    842517           M    20.57  ...    0.2750   0.08902       NaN\n",
              "2  84300903           M    19.69  ...    0.3613   0.08758       NaN\n",
              "3  84348301           M    11.42  ...    0.6638   0.17300       NaN\n",
              "4  84358402           M    20.29  ...    0.2364   0.07678  0.854454\n",
              "\n",
              "[5 rows x 35 columns]"
            ]
          },
          "metadata": {},
          "execution_count": 3
        }
      ]
    },
    {
      "cell_type": "code",
      "metadata": {
        "colab": {
          "base_uri": "https://localhost:8080/"
        },
        "id": "sRaxTjdkZQGv",
        "outputId": "1411075c-59ab-441e-8308-a1646db40304"
      },
      "source": [
        "resultados_exames.shape"
      ],
      "execution_count": 4,
      "outputs": [
        {
          "output_type": "execute_result",
          "data": {
            "text/plain": [
              "(569, 35)"
            ]
          },
          "metadata": {},
          "execution_count": 4
        }
      ]
    },
    {
      "cell_type": "code",
      "metadata": {
        "colab": {
          "base_uri": "https://localhost:8080/"
        },
        "id": "Qs4W3HutcIAh",
        "outputId": "ad8c99a7-7f07-44ef-fa3f-70f0db617040"
      },
      "source": [
        "resultados_exames.isnull().sum()"
      ],
      "execution_count": 12,
      "outputs": [
        {
          "output_type": "execute_result",
          "data": {
            "text/plain": [
              "id               0\n",
              "diagnostico      0\n",
              "exame_1          0\n",
              "exame_2          0\n",
              "exame_3          0\n",
              "exame_4          0\n",
              "exame_5          0\n",
              "exame_6          0\n",
              "exame_7          0\n",
              "exame_8          0\n",
              "exame_9          0\n",
              "exame_10         0\n",
              "exame_11         0\n",
              "exame_12         0\n",
              "exame_13         0\n",
              "exame_14         0\n",
              "exame_15         0\n",
              "exame_16         0\n",
              "exame_17         0\n",
              "exame_18         0\n",
              "exame_19         0\n",
              "exame_20         0\n",
              "exame_21         0\n",
              "exame_22         0\n",
              "exame_23         0\n",
              "exame_24         0\n",
              "exame_25         0\n",
              "exame_26         0\n",
              "exame_27         0\n",
              "exame_28         0\n",
              "exame_29         0\n",
              "exame_30         0\n",
              "exame_31         0\n",
              "exame_32         0\n",
              "exame_33       419\n",
              "dtype: int64"
            ]
          },
          "metadata": {},
          "execution_count": 12
        }
      ]
    },
    {
      "cell_type": "markdown",
      "metadata": {
        "id": "klhCEOlhdvDx"
      },
      "source": [
        "**73%** dos dados do **exame 33** estão vazias. Melhor abordagem é excluir-la."
      ]
    },
    {
      "cell_type": "code",
      "metadata": {
        "colab": {
          "base_uri": "https://localhost:8080/"
        },
        "id": "gZv3SBIiZVnT",
        "outputId": "f485fc05-6a8a-459c-deb4-7803c9cfb704"
      },
      "source": [
        "from sklearn.model_selection import train_test_split\n",
        "from sklearn.ensemble import RandomForestClassifier\n",
        "from numpy import random\n",
        "\n",
        "SEED = 123143\n",
        "random.seed(SEED)\n",
        "\n",
        "valores_exames = resultados_exames.drop(columns=['id', 'diagnostico'])\n",
        "diagnostico = resultados_exames.diagnostico\n",
        "valores_exames_v1 = valores_exames.drop(columns='exame_33')\n",
        "treino_x, teste_x, treino_y, teste_y = train_test_split(valores_exames_v1,\n",
        "                                                        diagnostico,\n",
        "                                                        test_size = 0.3)\n",
        "\n",
        "classificador = RandomForestClassifier(n_estimators=100)\n",
        "\n",
        "classificador.fit(treino_x, treino_y)\n",
        "\n",
        "print(f'Resultado da classificacao {classificador.score(teste_x, teste_y) * 100:.2f}%')"
      ],
      "execution_count": 18,
      "outputs": [
        {
          "output_type": "stream",
          "name": "stdout",
          "text": [
            "Resultado da classificacao 92.40%\n"
          ]
        }
      ]
    },
    {
      "cell_type": "code",
      "metadata": {
        "colab": {
          "base_uri": "https://localhost:8080/"
        },
        "id": "9trnyInWazBP",
        "outputId": "926a848d-6c9f-4616-d7c4-5a3e67ac4af3"
      },
      "source": [
        "from sklearn.dummy import DummyClassifier\n",
        "\n",
        "SEED = 123143\n",
        "random.seed(SEED)\n",
        "\n",
        "classificador_bobo = DummyClassifier(strategy='most_frequent')\n",
        "\n",
        "classificador_bobo.fit(treino_x, treino_y)\n",
        "\n",
        "print(f'Resultado da classificacao boba {classificador_bobo.score(teste_x, teste_y) * 100:.2f}%')"
      ],
      "execution_count": 23,
      "outputs": [
        {
          "output_type": "stream",
          "name": "stdout",
          "text": [
            "Resultado da classificacao boba 66.67%\n"
          ]
        }
      ]
    },
    {
      "cell_type": "markdown",
      "metadata": {
        "id": "o2K1J89GgW-x"
      },
      "source": [
        "# Aula 2\n"
      ]
    },
    {
      "cell_type": "code",
      "metadata": {
        "id": "i4F3pe7GhFyQ"
      },
      "source": [
        "dados_plot = pd.concat([diagnostico, valores_exames_v1], axis=1)\n",
        "dados_plot = pd.melt(dados_plot, id_vars='diagnostico', var_name='exames', value_name='valores')"
      ],
      "execution_count": 31,
      "outputs": []
    },
    {
      "cell_type": "code",
      "metadata": {
        "colab": {
          "base_uri": "https://localhost:8080/",
          "height": 414
        },
        "id": "1F2fSDnOhgkn",
        "outputId": "ba0ed577-eefc-4c26-deb6-13f6714ebeb1"
      },
      "source": [
        "dados_plot"
      ],
      "execution_count": 32,
      "outputs": [
        {
          "output_type": "execute_result",
          "data": {
            "text/html": [
              "<div>\n",
              "<style scoped>\n",
              "    .dataframe tbody tr th:only-of-type {\n",
              "        vertical-align: middle;\n",
              "    }\n",
              "\n",
              "    .dataframe tbody tr th {\n",
              "        vertical-align: top;\n",
              "    }\n",
              "\n",
              "    .dataframe thead th {\n",
              "        text-align: right;\n",
              "    }\n",
              "</style>\n",
              "<table border=\"1\" class=\"dataframe\">\n",
              "  <thead>\n",
              "    <tr style=\"text-align: right;\">\n",
              "      <th></th>\n",
              "      <th>diagnostico</th>\n",
              "      <th>exames</th>\n",
              "      <th>valores</th>\n",
              "    </tr>\n",
              "  </thead>\n",
              "  <tbody>\n",
              "    <tr>\n",
              "      <th>0</th>\n",
              "      <td>M</td>\n",
              "      <td>exame_1</td>\n",
              "      <td>17.99000</td>\n",
              "    </tr>\n",
              "    <tr>\n",
              "      <th>1</th>\n",
              "      <td>M</td>\n",
              "      <td>exame_1</td>\n",
              "      <td>20.57000</td>\n",
              "    </tr>\n",
              "    <tr>\n",
              "      <th>2</th>\n",
              "      <td>M</td>\n",
              "      <td>exame_1</td>\n",
              "      <td>19.69000</td>\n",
              "    </tr>\n",
              "    <tr>\n",
              "      <th>3</th>\n",
              "      <td>M</td>\n",
              "      <td>exame_1</td>\n",
              "      <td>11.42000</td>\n",
              "    </tr>\n",
              "    <tr>\n",
              "      <th>4</th>\n",
              "      <td>M</td>\n",
              "      <td>exame_1</td>\n",
              "      <td>20.29000</td>\n",
              "    </tr>\n",
              "    <tr>\n",
              "      <th>...</th>\n",
              "      <td>...</td>\n",
              "      <td>...</td>\n",
              "      <td>...</td>\n",
              "    </tr>\n",
              "    <tr>\n",
              "      <th>18203</th>\n",
              "      <td>M</td>\n",
              "      <td>exame_32</td>\n",
              "      <td>0.07115</td>\n",
              "    </tr>\n",
              "    <tr>\n",
              "      <th>18204</th>\n",
              "      <td>M</td>\n",
              "      <td>exame_32</td>\n",
              "      <td>0.06637</td>\n",
              "    </tr>\n",
              "    <tr>\n",
              "      <th>18205</th>\n",
              "      <td>M</td>\n",
              "      <td>exame_32</td>\n",
              "      <td>0.07820</td>\n",
              "    </tr>\n",
              "    <tr>\n",
              "      <th>18206</th>\n",
              "      <td>M</td>\n",
              "      <td>exame_32</td>\n",
              "      <td>0.12400</td>\n",
              "    </tr>\n",
              "    <tr>\n",
              "      <th>18207</th>\n",
              "      <td>B</td>\n",
              "      <td>exame_32</td>\n",
              "      <td>0.07039</td>\n",
              "    </tr>\n",
              "  </tbody>\n",
              "</table>\n",
              "<p>18208 rows × 3 columns</p>\n",
              "</div>"
            ],
            "text/plain": [
              "      diagnostico    exames   valores\n",
              "0               M   exame_1  17.99000\n",
              "1               M   exame_1  20.57000\n",
              "2               M   exame_1  19.69000\n",
              "3               M   exame_1  11.42000\n",
              "4               M   exame_1  20.29000\n",
              "...           ...       ...       ...\n",
              "18203           M  exame_32   0.07115\n",
              "18204           M  exame_32   0.06637\n",
              "18205           M  exame_32   0.07820\n",
              "18206           M  exame_32   0.12400\n",
              "18207           B  exame_32   0.07039\n",
              "\n",
              "[18208 rows x 3 columns]"
            ]
          },
          "metadata": {},
          "execution_count": 32
        }
      ]
    },
    {
      "cell_type": "code",
      "metadata": {
        "id": "XDJDa_Zii3jA"
      },
      "source": [
        "from sklearn.preprocessing import StandardScaler\n",
        "\n",
        "padronizador = StandardScaler()\n",
        "padronizador.fit(valores_exames_v1)\n",
        "valores_exames_v2 = padronizador.transform(valores_exames_v1)\n",
        "valores_exames_v2 = pd.DataFrame(data = valores_exames_v2,\n",
        "                                 columns=valores_exames_v1.keys())"
      ],
      "execution_count": 43,
      "outputs": []
    },
    {
      "cell_type": "code",
      "metadata": {
        "colab": {
          "base_uri": "https://localhost:8080/",
          "height": 646
        },
        "id": "jevcVZxEfqJg",
        "outputId": "a3a6831b-72ed-4da7-f5af-47741cc13d2e"
      },
      "source": [
        "import seaborn as sns\n",
        "import matplotlib.pyplot as plt\n",
        "\n",
        "dados_plot = pd.concat([diagnostico, valores_exames_v2.iloc[:,0:10]], axis=1)\n",
        "dados_plot = pd.melt(dados_plot, id_vars='diagnostico', var_name='exames', value_name='valores')\n",
        "\n",
        "plt.figure(figsize=(10, 10))\n",
        "\n",
        "sns.violinplot(x='exames', y='valores', \n",
        "               data = dados_plot, hue='diagnostico', split=True)\n",
        "\n",
        "plt.xticks(rotation=90)\n",
        "\n",
        "plt.show()"
      ],
      "execution_count": 46,
      "outputs": [
        {
          "output_type": "display_data",
          "data": {
            "image/png": "[encoded data removed]",
            "text/plain": [
              "<Figure size 720x720 with 1 Axes>"
            ]
          },
          "metadata": {
            "needs_background": "light"
          }
        }
      ]
    },
    {
      "cell_type": "code",
      "metadata": {
        "id": "fPo4aOd5gWPT"
      },
      "source": [
        ""
      ],
      "execution_count": null,
      "outputs": []
    }
  ]
}