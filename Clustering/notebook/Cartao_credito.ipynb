{
  "nbformat": 4,
  "nbformat_minor": 0,
  "metadata": {
    "colab": {
      "name": "Cartao_credito.ipynb",
      "provenance": [],
      "authorship_tag": "ABX9TyPqH5BHInjvI10cTx3lgGte",
      "include_colab_link": true
    },
    "kernelspec": {
      "name": "python3",
      "display_name": "Python 3"
    },
    "language_info": {
      "name": "python"
    }
  },
  "cells": [
    {
      "cell_type": "markdown",
      "metadata": {
        "id": "view-in-github",
        "colab_type": "text"
      },
      "source": [
        "<a href=\"https://colab.research.google.com/github/HenriqueCCdA/FormacaoAluraML/blob/main/Clustering/notebook/Cartao_credito.ipynb\" target=\"_parent\"><img src=\"https://colab.research.google.com/assets/colab-badge.svg\" alt=\"Open In Colab\"/></a>"
      ]
    },
    {
      "cell_type": "markdown",
      "metadata": {
        "id": "ft1aYFV0jFFQ"
      },
      "source": [
        "# Aula 2"
      ]
    },
    {
      "cell_type": "code",
      "metadata": {
        "id": "nGzkExdhjSaX"
      },
      "source": [
        "import pandas as pd"
      ],
      "execution_count": 1,
      "outputs": []
    },
    {
      "cell_type": "code",
      "metadata": {
        "colab": {
          "base_uri": "https://localhost:8080/",
          "height": 222
        },
        "id": "fMwi4Q8ciUyu",
        "outputId": "1a852ee2-c20c-44eb-95fa-a526709067d6"
      },
      "source": [
        "path = 'https://raw.githubusercontent.com/HenriqueCCdA/FormacaoAluraML/main/Clustering/dados/CC_GENERAL.csv'\n",
        "\n",
        "dataframe = pd.read_csv(path)\n",
        "\n",
        "dataframe.head()"
      ],
      "execution_count": 2,
      "outputs": [
        {
          "output_type": "execute_result",
          "data": {
            "text/html": [
              "<div>\n",
              "<style scoped>\n",
              "    .dataframe tbody tr th:only-of-type {\n",
              "        vertical-align: middle;\n",
              "    }\n",
              "\n",
              "    .dataframe tbody tr th {\n",
              "        vertical-align: top;\n",
              "    }\n",
              "\n",
              "    .dataframe thead th {\n",
              "        text-align: right;\n",
              "    }\n",
              "</style>\n",
              "<table border=\"1\" class=\"dataframe\">\n",
              "  <thead>\n",
              "    <tr style=\"text-align: right;\">\n",
              "      <th></th>\n",
              "      <th>CUST_ID</th>\n",
              "      <th>BALANCE</th>\n",
              "      <th>BALANCE_FREQUENCY</th>\n",
              "      <th>PURCHASES</th>\n",
              "      <th>ONEOFF_PURCHASES</th>\n",
              "      <th>INSTALLMENTS_PURCHASES</th>\n",
              "      <th>CASH_ADVANCE</th>\n",
              "      <th>PURCHASES_FREQUENCY</th>\n",
              "      <th>ONEOFF_PURCHASES_FREQUENCY</th>\n",
              "      <th>PURCHASES_INSTALLMENTS_FREQUENCY</th>\n",
              "      <th>CASH_ADVANCE_FREQUENCY</th>\n",
              "      <th>CASH_ADVANCE_TRX</th>\n",
              "      <th>PURCHASES_TRX</th>\n",
              "      <th>CREDIT_LIMIT</th>\n",
              "      <th>PAYMENTS</th>\n",
              "      <th>MINIMUM_PAYMENTS</th>\n",
              "      <th>PRC_FULL_PAYMENT</th>\n",
              "      <th>TENURE</th>\n",
              "    </tr>\n",
              "  </thead>\n",
              "  <tbody>\n",
              "    <tr>\n",
              "      <th>0</th>\n",
              "      <td>C10001</td>\n",
              "      <td>40.900749</td>\n",
              "      <td>0.818182</td>\n",
              "      <td>95.40</td>\n",
              "      <td>0.00</td>\n",
              "      <td>95.4</td>\n",
              "      <td>0.000000</td>\n",
              "      <td>0.166667</td>\n",
              "      <td>0.000000</td>\n",
              "      <td>0.083333</td>\n",
              "      <td>0.000000</td>\n",
              "      <td>0</td>\n",
              "      <td>2</td>\n",
              "      <td>1000.0</td>\n",
              "      <td>201.802084</td>\n",
              "      <td>139.509787</td>\n",
              "      <td>0.000000</td>\n",
              "      <td>12</td>\n",
              "    </tr>\n",
              "    <tr>\n",
              "      <th>1</th>\n",
              "      <td>C10002</td>\n",
              "      <td>3202.467416</td>\n",
              "      <td>0.909091</td>\n",
              "      <td>0.00</td>\n",
              "      <td>0.00</td>\n",
              "      <td>0.0</td>\n",
              "      <td>6442.945483</td>\n",
              "      <td>0.000000</td>\n",
              "      <td>0.000000</td>\n",
              "      <td>0.000000</td>\n",
              "      <td>0.250000</td>\n",
              "      <td>4</td>\n",
              "      <td>0</td>\n",
              "      <td>7000.0</td>\n",
              "      <td>4103.032597</td>\n",
              "      <td>1072.340217</td>\n",
              "      <td>0.222222</td>\n",
              "      <td>12</td>\n",
              "    </tr>\n",
              "    <tr>\n",
              "      <th>2</th>\n",
              "      <td>C10003</td>\n",
              "      <td>2495.148862</td>\n",
              "      <td>1.000000</td>\n",
              "      <td>773.17</td>\n",
              "      <td>773.17</td>\n",
              "      <td>0.0</td>\n",
              "      <td>0.000000</td>\n",
              "      <td>1.000000</td>\n",
              "      <td>1.000000</td>\n",
              "      <td>0.000000</td>\n",
              "      <td>0.000000</td>\n",
              "      <td>0</td>\n",
              "      <td>12</td>\n",
              "      <td>7500.0</td>\n",
              "      <td>622.066742</td>\n",
              "      <td>627.284787</td>\n",
              "      <td>0.000000</td>\n",
              "      <td>12</td>\n",
              "    </tr>\n",
              "    <tr>\n",
              "      <th>3</th>\n",
              "      <td>C10004</td>\n",
              "      <td>1666.670542</td>\n",
              "      <td>0.636364</td>\n",
              "      <td>1499.00</td>\n",
              "      <td>1499.00</td>\n",
              "      <td>0.0</td>\n",
              "      <td>205.788017</td>\n",
              "      <td>0.083333</td>\n",
              "      <td>0.083333</td>\n",
              "      <td>0.000000</td>\n",
              "      <td>0.083333</td>\n",
              "      <td>1</td>\n",
              "      <td>1</td>\n",
              "      <td>7500.0</td>\n",
              "      <td>0.000000</td>\n",
              "      <td>NaN</td>\n",
              "      <td>0.000000</td>\n",
              "      <td>12</td>\n",
              "    </tr>\n",
              "    <tr>\n",
              "      <th>4</th>\n",
              "      <td>C10005</td>\n",
              "      <td>817.714335</td>\n",
              "      <td>1.000000</td>\n",
              "      <td>16.00</td>\n",
              "      <td>16.00</td>\n",
              "      <td>0.0</td>\n",
              "      <td>0.000000</td>\n",
              "      <td>0.083333</td>\n",
              "      <td>0.083333</td>\n",
              "      <td>0.000000</td>\n",
              "      <td>0.000000</td>\n",
              "      <td>0</td>\n",
              "      <td>1</td>\n",
              "      <td>1200.0</td>\n",
              "      <td>678.334763</td>\n",
              "      <td>244.791237</td>\n",
              "      <td>0.000000</td>\n",
              "      <td>12</td>\n",
              "    </tr>\n",
              "  </tbody>\n",
              "</table>\n",
              "</div>"
            ],
            "text/plain": [
              "  CUST_ID      BALANCE  ...  PRC_FULL_PAYMENT  TENURE\n",
              "0  C10001    40.900749  ...          0.000000      12\n",
              "1  C10002  3202.467416  ...          0.222222      12\n",
              "2  C10003  2495.148862  ...          0.000000      12\n",
              "3  C10004  1666.670542  ...          0.000000      12\n",
              "4  C10005   817.714335  ...          0.000000      12\n",
              "\n",
              "[5 rows x 18 columns]"
            ]
          },
          "metadata": {},
          "execution_count": 2
        }
      ]
    },
    {
      "cell_type": "code",
      "metadata": {
        "id": "l3WzN0JPjXc9",
        "colab": {
          "base_uri": "https://localhost:8080/",
          "height": 222
        },
        "outputId": "22ee595f-3adf-4b3a-bbbf-d6e3e47ff1c5"
      },
      "source": [
        "dataframe.drop(columns=[\"CUST_ID\", \"TENURE\"], inplace=True)\n",
        "dataframe.head()"
      ],
      "execution_count": 3,
      "outputs": [
        {
          "output_type": "execute_result",
          "data": {
            "text/html": [
              "<div>\n",
              "<style scoped>\n",
              "    .dataframe tbody tr th:only-of-type {\n",
              "        vertical-align: middle;\n",
              "    }\n",
              "\n",
              "    .dataframe tbody tr th {\n",
              "        vertical-align: top;\n",
              "    }\n",
              "\n",
              "    .dataframe thead th {\n",
              "        text-align: right;\n",
              "    }\n",
              "</style>\n",
              "<table border=\"1\" class=\"dataframe\">\n",
              "  <thead>\n",
              "    <tr style=\"text-align: right;\">\n",
              "      <th></th>\n",
              "      <th>BALANCE</th>\n",
              "      <th>BALANCE_FREQUENCY</th>\n",
              "      <th>PURCHASES</th>\n",
              "      <th>ONEOFF_PURCHASES</th>\n",
              "      <th>INSTALLMENTS_PURCHASES</th>\n",
              "      <th>CASH_ADVANCE</th>\n",
              "      <th>PURCHASES_FREQUENCY</th>\n",
              "      <th>ONEOFF_PURCHASES_FREQUENCY</th>\n",
              "      <th>PURCHASES_INSTALLMENTS_FREQUENCY</th>\n",
              "      <th>CASH_ADVANCE_FREQUENCY</th>\n",
              "      <th>CASH_ADVANCE_TRX</th>\n",
              "      <th>PURCHASES_TRX</th>\n",
              "      <th>CREDIT_LIMIT</th>\n",
              "      <th>PAYMENTS</th>\n",
              "      <th>MINIMUM_PAYMENTS</th>\n",
              "      <th>PRC_FULL_PAYMENT</th>\n",
              "    </tr>\n",
              "  </thead>\n",
              "  <tbody>\n",
              "    <tr>\n",
              "      <th>0</th>\n",
              "      <td>40.900749</td>\n",
              "      <td>0.818182</td>\n",
              "      <td>95.40</td>\n",
              "      <td>0.00</td>\n",
              "      <td>95.4</td>\n",
              "      <td>0.000000</td>\n",
              "      <td>0.166667</td>\n",
              "      <td>0.000000</td>\n",
              "      <td>0.083333</td>\n",
              "      <td>0.000000</td>\n",
              "      <td>0</td>\n",
              "      <td>2</td>\n",
              "      <td>1000.0</td>\n",
              "      <td>201.802084</td>\n",
              "      <td>139.509787</td>\n",
              "      <td>0.000000</td>\n",
              "    </tr>\n",
              "    <tr>\n",
              "      <th>1</th>\n",
              "      <td>3202.467416</td>\n",
              "      <td>0.909091</td>\n",
              "      <td>0.00</td>\n",
              "      <td>0.00</td>\n",
              "      <td>0.0</td>\n",
              "      <td>6442.945483</td>\n",
              "      <td>0.000000</td>\n",
              "      <td>0.000000</td>\n",
              "      <td>0.000000</td>\n",
              "      <td>0.250000</td>\n",
              "      <td>4</td>\n",
              "      <td>0</td>\n",
              "      <td>7000.0</td>\n",
              "      <td>4103.032597</td>\n",
              "      <td>1072.340217</td>\n",
              "      <td>0.222222</td>\n",
              "    </tr>\n",
              "    <tr>\n",
              "      <th>2</th>\n",
              "      <td>2495.148862</td>\n",
              "      <td>1.000000</td>\n",
              "      <td>773.17</td>\n",
              "      <td>773.17</td>\n",
              "      <td>0.0</td>\n",
              "      <td>0.000000</td>\n",
              "      <td>1.000000</td>\n",
              "      <td>1.000000</td>\n",
              "      <td>0.000000</td>\n",
              "      <td>0.000000</td>\n",
              "      <td>0</td>\n",
              "      <td>12</td>\n",
              "      <td>7500.0</td>\n",
              "      <td>622.066742</td>\n",
              "      <td>627.284787</td>\n",
              "      <td>0.000000</td>\n",
              "    </tr>\n",
              "    <tr>\n",
              "      <th>3</th>\n",
              "      <td>1666.670542</td>\n",
              "      <td>0.636364</td>\n",
              "      <td>1499.00</td>\n",
              "      <td>1499.00</td>\n",
              "      <td>0.0</td>\n",
              "      <td>205.788017</td>\n",
              "      <td>0.083333</td>\n",
              "      <td>0.083333</td>\n",
              "      <td>0.000000</td>\n",
              "      <td>0.083333</td>\n",
              "      <td>1</td>\n",
              "      <td>1</td>\n",
              "      <td>7500.0</td>\n",
              "      <td>0.000000</td>\n",
              "      <td>NaN</td>\n",
              "      <td>0.000000</td>\n",
              "    </tr>\n",
              "    <tr>\n",
              "      <th>4</th>\n",
              "      <td>817.714335</td>\n",
              "      <td>1.000000</td>\n",
              "      <td>16.00</td>\n",
              "      <td>16.00</td>\n",
              "      <td>0.0</td>\n",
              "      <td>0.000000</td>\n",
              "      <td>0.083333</td>\n",
              "      <td>0.083333</td>\n",
              "      <td>0.000000</td>\n",
              "      <td>0.000000</td>\n",
              "      <td>0</td>\n",
              "      <td>1</td>\n",
              "      <td>1200.0</td>\n",
              "      <td>678.334763</td>\n",
              "      <td>244.791237</td>\n",
              "      <td>0.000000</td>\n",
              "    </tr>\n",
              "  </tbody>\n",
              "</table>\n",
              "</div>"
            ],
            "text/plain": [
              "       BALANCE  BALANCE_FREQUENCY  ...  MINIMUM_PAYMENTS  PRC_FULL_PAYMENT\n",
              "0    40.900749           0.818182  ...        139.509787          0.000000\n",
              "1  3202.467416           0.909091  ...       1072.340217          0.222222\n",
              "2  2495.148862           1.000000  ...        627.284787          0.000000\n",
              "3  1666.670542           0.636364  ...               NaN          0.000000\n",
              "4   817.714335           1.000000  ...        244.791237          0.000000\n",
              "\n",
              "[5 rows x 16 columns]"
            ]
          },
          "metadata": {},
          "execution_count": 3
        }
      ]
    },
    {
      "cell_type": "code",
      "metadata": {
        "colab": {
          "base_uri": "https://localhost:8080/"
        },
        "id": "1fW4HEUbvs6N",
        "outputId": "8cc18f99-5c98-486b-c223-80a818a71fab"
      },
      "source": [
        "missing = dataframe.isna().sum()\n",
        "print(missing)"
      ],
      "execution_count": 4,
      "outputs": [
        {
          "output_type": "stream",
          "name": "stdout",
          "text": [
            "BALANCE                               0\n",
            "BALANCE_FREQUENCY                     0\n",
            "PURCHASES                             0\n",
            "ONEOFF_PURCHASES                      0\n",
            "INSTALLMENTS_PURCHASES                0\n",
            "CASH_ADVANCE                          0\n",
            "PURCHASES_FREQUENCY                   0\n",
            "ONEOFF_PURCHASES_FREQUENCY            0\n",
            "PURCHASES_INSTALLMENTS_FREQUENCY      0\n",
            "CASH_ADVANCE_FREQUENCY                0\n",
            "CASH_ADVANCE_TRX                      0\n",
            "PURCHASES_TRX                         0\n",
            "CREDIT_LIMIT                          1\n",
            "PAYMENTS                              0\n",
            "MINIMUM_PAYMENTS                    313\n",
            "PRC_FULL_PAYMENT                      0\n",
            "dtype: int64\n"
          ]
        }
      ]
    },
    {
      "cell_type": "code",
      "metadata": {
        "colab": {
          "base_uri": "https://localhost:8080/"
        },
        "id": "c-V17wtbwDwk",
        "outputId": "c0f91e9d-b05a-49c7-8a7c-4f73dcbb6449"
      },
      "source": [
        "dataframe.fillna(dataframe.median(), inplace=True)\n",
        "missing = dataframe.isna().sum()\n",
        "print(missing)"
      ],
      "execution_count": 5,
      "outputs": [
        {
          "output_type": "stream",
          "name": "stdout",
          "text": [
            "BALANCE                             0\n",
            "BALANCE_FREQUENCY                   0\n",
            "PURCHASES                           0\n",
            "ONEOFF_PURCHASES                    0\n",
            "INSTALLMENTS_PURCHASES              0\n",
            "CASH_ADVANCE                        0\n",
            "PURCHASES_FREQUENCY                 0\n",
            "ONEOFF_PURCHASES_FREQUENCY          0\n",
            "PURCHASES_INSTALLMENTS_FREQUENCY    0\n",
            "CASH_ADVANCE_FREQUENCY              0\n",
            "CASH_ADVANCE_TRX                    0\n",
            "PURCHASES_TRX                       0\n",
            "CREDIT_LIMIT                        0\n",
            "PAYMENTS                            0\n",
            "MINIMUM_PAYMENTS                    0\n",
            "PRC_FULL_PAYMENT                    0\n",
            "dtype: int64\n"
          ]
        }
      ]
    },
    {
      "cell_type": "code",
      "metadata": {
        "colab": {
          "base_uri": "https://localhost:8080/"
        },
        "id": "AaezaAA9wmxr",
        "outputId": "94a827cd-15ef-4d24-ea7b-09e35cb084fd"
      },
      "source": [
        "from sklearn.preprocessing import Normalizer\n",
        "\n",
        "values = Normalizer().fit_transform(dataframe.values)\n",
        "print(values)"
      ],
      "execution_count": 6,
      "outputs": [
        {
          "output_type": "stream",
          "name": "stdout",
          "text": [
            "[[3.93555441e-02 7.87271593e-04 9.17958473e-02 ... 1.94178127e-01\n",
            "  1.34239194e-01 0.00000000e+00]\n",
            " [2.93875903e-01 8.34231560e-05 0.00000000e+00 ... 3.76516684e-01\n",
            "  9.84037959e-02 2.03923046e-05]\n",
            " [3.10798149e-01 1.24560965e-04 9.63068011e-02 ... 7.74852335e-02\n",
            "  7.81351982e-02 0.00000000e+00]\n",
            " ...\n",
            " [2.27733092e-02 8.11060955e-04 1.40540698e-01 ... 7.90986945e-02\n",
            "  8.02156174e-02 2.43318384e-04]\n",
            " [2.65257948e-02 1.64255731e-03 0.00000000e+00 ... 1.03579625e-01\n",
            "  1.09898221e-01 4.92767391e-04]\n",
            " [1.86406219e-01 3.33426837e-04 5.46778061e-01 ... 3.15915455e-02\n",
            "  4.41568390e-02 0.00000000e+00]]\n"
          ]
        }
      ]
    },
    {
      "cell_type": "code",
      "metadata": {
        "id": "Bhr8yLp3xaCJ"
      },
      "source": [
        "from sklearn.cluster import KMeans\n",
        "kmeans = KMeans(n_clusters = 5, n_init=10, max_iter=300)\n",
        "y_pred = kmeans.fit_predict(values)"
      ],
      "execution_count": 7,
      "outputs": []
    },
    {
      "cell_type": "markdown",
      "metadata": {
        "id": "mObpqjubzeOM"
      },
      "source": [
        "# Aula 5\n"
      ]
    },
    {
      "cell_type": "code",
      "metadata": {
        "id": "mHY7A5DbzobB",
        "colab": {
          "base_uri": "https://localhost:8080/"
        },
        "outputId": "f030484f-0305-4608-cafe-a6db0f2fb218"
      },
      "source": [
        "from sklearn import metrics\n",
        "labels = kmeans.labels_\n",
        "silhouete = metrics.silhouette_score(values, labels, metric='euclidean')\n",
        "print('silhouette:', silhouete)"
      ],
      "execution_count": 8,
      "outputs": [
        {
          "output_type": "stream",
          "name": "stdout",
          "text": [
            "silhouette: 0.364439277430815\n"
          ]
        }
      ]
    },
    {
      "cell_type": "code",
      "metadata": {
        "id": "P2m9YI5m4ERe",
        "colab": {
          "base_uri": "https://localhost:8080/"
        },
        "outputId": "44d3037f-dacc-49d5-b761-247e489798ce"
      },
      "source": [
        "dbs = metrics.davies_bouldin_score(values, labels)\n",
        "print('davies_bouldin:', dbs)"
      ],
      "execution_count": 9,
      "outputs": [
        {
          "output_type": "stream",
          "name": "stdout",
          "text": [
            "davies_bouldin: 1.075878703157104\n"
          ]
        }
      ]
    },
    {
      "cell_type": "code",
      "metadata": {
        "id": "Q-j6i_6B-Mxa",
        "colab": {
          "base_uri": "https://localhost:8080/"
        },
        "outputId": "b8fce457-5f8c-42ca-afd9-7ff83d076b21"
      },
      "source": [
        "calinski = metrics.calinski_harabasz_score(values, labels)\n",
        "print('calinski_harabasz:', calinski)"
      ],
      "execution_count": 10,
      "outputs": [
        {
          "output_type": "stream",
          "name": "stdout",
          "text": [
            "calinski_harabasz: 3431.782548172111\n"
          ]
        }
      ]
    },
    {
      "cell_type": "markdown",
      "metadata": {
        "id": "bomLwHaWGlny"
      },
      "source": [
        "# Aula 6"
      ]
    },
    {
      "cell_type": "code",
      "metadata": {
        "id": "pQgxdwFUGncV"
      },
      "source": [
        "def clustering_algorithm(n_clusters, dataset):\n",
        "    kmeans = KMeans(n_clusters=n_clusters, n_init=10, max_iter=100)\n",
        "    labels = kmeans.fit_predict(dataset)\n",
        "    s = metrics.silhouette_score(dataset, labels, metric='euclidean')\n",
        "    dbs = metrics.davies_bouldin_score(dataset, labels)\n",
        "    calinski = metrics.calinski_harabasz_score(dataset, labels)\n",
        "\n",
        "    return s, dbs, calinski"
      ],
      "execution_count": 11,
      "outputs": []
    },
    {
      "cell_type": "code",
      "metadata": {
        "id": "0Vg4Hn0CIPjS",
        "colab": {
          "base_uri": "https://localhost:8080/"
        },
        "outputId": "949c38b4-2a64-49ee-8427-c4b38af0b02e"
      },
      "source": [
        "for n in [2, 3, 5, 10, 20, 50, 100]:\n",
        "    s, dbs, calinski = clustering_algorithm(n, values)\n",
        "    print(f'{n:3} {s:.2f} {dbs:.2f} {calinski:.2f}')"
      ],
      "execution_count": 12,
      "outputs": [
        {
          "output_type": "stream",
          "name": "stdout",
          "text": [
            "  2 0.30 1.52 3321.85\n",
            "  3 0.33 1.31 3526.44\n",
            "  5 0.36 1.08 3431.80\n",
            " 10 0.35 1.12 3018.97\n",
            " 20 0.28 1.21 2416.30\n",
            " 50 0.23 1.24 1608.53\n",
            "100 0.23 1.25 1169.55\n"
          ]
        }
      ]
    },
    {
      "cell_type": "code",
      "metadata": {
        "id": "aKCeod8XJnL-",
        "colab": {
          "base_uri": "https://localhost:8080/"
        },
        "outputId": "1469e18d-46fa-4754-a2d6-3d872a5d4348"
      },
      "source": [
        "dataframe.count()"
      ],
      "execution_count": 13,
      "outputs": [
        {
          "output_type": "execute_result",
          "data": {
            "text/plain": [
              "BALANCE                             8950\n",
              "BALANCE_FREQUENCY                   8950\n",
              "PURCHASES                           8950\n",
              "ONEOFF_PURCHASES                    8950\n",
              "INSTALLMENTS_PURCHASES              8950\n",
              "CASH_ADVANCE                        8950\n",
              "PURCHASES_FREQUENCY                 8950\n",
              "ONEOFF_PURCHASES_FREQUENCY          8950\n",
              "PURCHASES_INSTALLMENTS_FREQUENCY    8950\n",
              "CASH_ADVANCE_FREQUENCY              8950\n",
              "CASH_ADVANCE_TRX                    8950\n",
              "PURCHASES_TRX                       8950\n",
              "CREDIT_LIMIT                        8950\n",
              "PAYMENTS                            8950\n",
              "MINIMUM_PAYMENTS                    8950\n",
              "PRC_FULL_PAYMENT                    8950\n",
              "dtype: int64"
            ]
          },
          "metadata": {},
          "execution_count": 13
        }
      ]
    },
    {
      "cell_type": "code",
      "metadata": {
        "id": "milamkBLOqqc",
        "colab": {
          "base_uri": "https://localhost:8080/"
        },
        "outputId": "69f2322c-95dc-40c4-91f1-b18c752d864b"
      },
      "source": [
        "import numpy as np\n",
        "random_data = np.random.rand(8950, 16)\n",
        "s, dbs, calinski = clustering_algorithm(n, values)\n",
        "sa, dbsa, calinskia = clustering_algorithm(5, random_data)\n",
        "print(f'Conjuto aleatorio     : {sa:.2f} {dbsa:.2f} {calinskia:.2f}')\n",
        "print(f'Conjuto nao aleatorio : {s:.2f} {dbs:.2f} {calinski:.2f}')"
      ],
      "execution_count": 14,
      "outputs": [
        {
          "output_type": "stream",
          "name": "stdout",
          "text": [
            "Conjuto aleatorio     : 0.04 3.53 304.53\n",
            "Conjuto nao aleatorio : 0.22 1.24 1167.45\n"
          ]
        }
      ]
    },
    {
      "cell_type": "code",
      "metadata": {
        "id": "Cx3Wapf-OtB1",
        "colab": {
          "base_uri": "https://localhost:8080/"
        },
        "outputId": "c19601bd-7599-4556-ab11-7e82bfe71b35"
      },
      "source": [
        "set1, set2, set3 = np.array_split(values, 3)\n",
        "print(clustering_algorithm(5, set1))\n",
        "print(clustering_algorithm(5, set2))\n",
        "print(clustering_algorithm(5, set3))"
      ],
      "execution_count": 15,
      "outputs": [
        {
          "output_type": "stream",
          "name": "stdout",
          "text": [
            "(0.3689709458416189, 1.0581656052369075, 1204.0560966145404)\n",
            "(0.3533093838590228, 1.142502270067299, 1194.9475421190975)\n",
            "(0.36713104970461446, 1.0991014125845049, 1167.5075975296127)\n"
          ]
        }
      ]
    },
    {
      "cell_type": "markdown",
      "metadata": {
        "id": "Lw-Qx7koQr_Z"
      },
      "source": [
        "#Aula 7"
      ]
    },
    {
      "cell_type": "code",
      "metadata": {
        "id": "PqzE0xycQuV_",
        "colab": {
          "base_uri": "https://localhost:8080/",
          "height": 278
        },
        "outputId": "58249f9e-2d8b-457d-c424-c590c0193837"
      },
      "source": [
        "import matplotlib.pyplot as plt\n",
        "\n",
        "plt.scatter(dataframe['PURCHASES'], dataframe['PAYMENTS'], c=labels, s=5, cmap='rainbow')\n",
        "plt.xlabel(\"Valor total pago\")\n",
        "plt.ylabel(\"Valor total gasto\")\n",
        "plt.show()"
      ],
      "execution_count": 16,
      "outputs": [
        {
          "output_type": "display_data",
          "data": {
            "image/png": "[encoded data removed]",
            "text/plain": [
              "<Figure size 432x288 with 1 Axes>"
            ]
          },
          "metadata": {
            "needs_background": "light"
          }
        }
      ]
    },
    {
      "cell_type": "code",
      "metadata": {
        "id": "fjGreBW0RiXV"
      },
      "source": [
        "import seaborn as sns\n",
        "\n",
        "dataframe[\"cluster\"] = labels\n",
        "\n",
        "sns.pairplot(dataframe[0:], hue=\"cluster\")\n",
        "\n",
        "plt.show()"
      ],
      "execution_count": null,
      "outputs": []
    },
    {
      "cell_type": "markdown",
      "metadata": {
        "id": "leH1DejZT4M4"
      },
      "source": [
        "#Aula 8"
      ]
    },
    {
      "cell_type": "code",
      "metadata": {
        "id": "Rh3nzQHYT5Vh",
        "outputId": "1f6675dd-d483-4769-e15c-c11cf8090a44",
        "colab": {
          "base_uri": "https://localhost:8080/",
          "height": 312
        }
      },
      "source": [
        "dataframe.groupby('cluster').describe()"
      ],
      "execution_count": 18,
      "outputs": [
        {
          "output_type": "execute_result",
          "data": {
            "text/html": [
              "<div>\n",
              "<style scoped>\n",
              "    .dataframe tbody tr th:only-of-type {\n",
              "        vertical-align: middle;\n",
              "    }\n",
              "\n",
              "    .dataframe tbody tr th {\n",
              "        vertical-align: top;\n",
              "    }\n",
              "\n",
              "    .dataframe thead tr th {\n",
              "        text-align: left;\n",
              "    }\n",
              "\n",
              "    .dataframe thead tr:last-of-type th {\n",
              "        text-align: right;\n",
              "    }\n",
              "</style>\n",
              "<table border=\"1\" class=\"dataframe\">\n",
              "  <thead>\n",
              "    <tr>\n",
              "      <th></th>\n",
              "      <th colspan=\"8\" halign=\"left\">BALANCE</th>\n",
              "      <th colspan=\"8\" halign=\"left\">BALANCE_FREQUENCY</th>\n",
              "      <th colspan=\"8\" halign=\"left\">PURCHASES</th>\n",
              "      <th colspan=\"8\" halign=\"left\">ONEOFF_PURCHASES</th>\n",
              "      <th colspan=\"8\" halign=\"left\">INSTALLMENTS_PURCHASES</th>\n",
              "      <th>...</th>\n",
              "      <th colspan=\"8\" halign=\"left\">PURCHASES_TRX</th>\n",
              "      <th colspan=\"8\" halign=\"left\">CREDIT_LIMIT</th>\n",
              "      <th colspan=\"8\" halign=\"left\">PAYMENTS</th>\n",
              "      <th colspan=\"8\" halign=\"left\">MINIMUM_PAYMENTS</th>\n",
              "      <th colspan=\"8\" halign=\"left\">PRC_FULL_PAYMENT</th>\n",
              "    </tr>\n",
              "    <tr>\n",
              "      <th></th>\n",
              "      <th>count</th>\n",
              "      <th>mean</th>\n",
              "      <th>std</th>\n",
              "      <th>min</th>\n",
              "      <th>25%</th>\n",
              "      <th>50%</th>\n",
              "      <th>75%</th>\n",
              "      <th>max</th>\n",
              "      <th>count</th>\n",
              "      <th>mean</th>\n",
              "      <th>std</th>\n",
              "      <th>min</th>\n",
              "      <th>25%</th>\n",
              "      <th>50%</th>\n",
              "      <th>75%</th>\n",
              "      <th>max</th>\n",
              "      <th>count</th>\n",
              "      <th>mean</th>\n",
              "      <th>std</th>\n",
              "      <th>min</th>\n",
              "      <th>25%</th>\n",
              "      <th>50%</th>\n",
              "      <th>75%</th>\n",
              "      <th>max</th>\n",
              "      <th>count</th>\n",
              "      <th>mean</th>\n",
              "      <th>std</th>\n",
              "      <th>min</th>\n",
              "      <th>25%</th>\n",
              "      <th>50%</th>\n",
              "      <th>75%</th>\n",
              "      <th>max</th>\n",
              "      <th>count</th>\n",
              "      <th>mean</th>\n",
              "      <th>std</th>\n",
              "      <th>min</th>\n",
              "      <th>25%</th>\n",
              "      <th>50%</th>\n",
              "      <th>75%</th>\n",
              "      <th>max</th>\n",
              "      <th>...</th>\n",
              "      <th>count</th>\n",
              "      <th>mean</th>\n",
              "      <th>std</th>\n",
              "      <th>min</th>\n",
              "      <th>25%</th>\n",
              "      <th>50%</th>\n",
              "      <th>75%</th>\n",
              "      <th>max</th>\n",
              "      <th>count</th>\n",
              "      <th>mean</th>\n",
              "      <th>std</th>\n",
              "      <th>min</th>\n",
              "      <th>25%</th>\n",
              "      <th>50%</th>\n",
              "      <th>75%</th>\n",
              "      <th>max</th>\n",
              "      <th>count</th>\n",
              "      <th>mean</th>\n",
              "      <th>std</th>\n",
              "      <th>min</th>\n",
              "      <th>25%</th>\n",
              "      <th>50%</th>\n",
              "      <th>75%</th>\n",
              "      <th>max</th>\n",
              "      <th>count</th>\n",
              "      <th>mean</th>\n",
              "      <th>std</th>\n",
              "      <th>min</th>\n",
              "      <th>25%</th>\n",
              "      <th>50%</th>\n",
              "      <th>75%</th>\n",
              "      <th>max</th>\n",
              "      <th>count</th>\n",
              "      <th>mean</th>\n",
              "      <th>std</th>\n",
              "      <th>min</th>\n",
              "      <th>25%</th>\n",
              "      <th>50%</th>\n",
              "      <th>75%</th>\n",
              "      <th>max</th>\n",
              "    </tr>\n",
              "    <tr>\n",
              "      <th>cluster</th>\n",
              "      <th></th>\n",
              "      <th></th>\n",
              "      <th></th>\n",
              "      <th></th>\n",
              "      <th></th>\n",
              "      <th></th>\n",
              "      <th></th>\n",
              "      <th></th>\n",
              "      <th></th>\n",
              "      <th></th>\n",
              "      <th></th>\n",
              "      <th></th>\n",
              "      <th></th>\n",
              "      <th></th>\n",
              "      <th></th>\n",
              "      <th></th>\n",
              "      <th></th>\n",
              "      <th></th>\n",
              "      <th></th>\n",
              "      <th></th>\n",
              "      <th></th>\n",
              "      <th></th>\n",
              "      <th></th>\n",
              "      <th></th>\n",
              "      <th></th>\n",
              "      <th></th>\n",
              "      <th></th>\n",
              "      <th></th>\n",
              "      <th></th>\n",
              "      <th></th>\n",
              "      <th></th>\n",
              "      <th></th>\n",
              "      <th></th>\n",
              "      <th></th>\n",
              "      <th></th>\n",
              "      <th></th>\n",
              "      <th></th>\n",
              "      <th></th>\n",
              "      <th></th>\n",
              "      <th></th>\n",
              "      <th></th>\n",
              "      <th></th>\n",
              "      <th></th>\n",
              "      <th></th>\n",
              "      <th></th>\n",
              "      <th></th>\n",
              "      <th></th>\n",
              "      <th></th>\n",
              "      <th></th>\n",
              "      <th></th>\n",
              "      <th></th>\n",
              "      <th></th>\n",
              "      <th></th>\n",
              "      <th></th>\n",
              "      <th></th>\n",
              "      <th></th>\n",
              "      <th></th>\n",
              "      <th></th>\n",
              "      <th></th>\n",
              "      <th></th>\n",
              "      <th></th>\n",
              "      <th></th>\n",
              "      <th></th>\n",
              "      <th></th>\n",
              "      <th></th>\n",
              "      <th></th>\n",
              "      <th></th>\n",
              "      <th></th>\n",
              "      <th></th>\n",
              "      <th></th>\n",
              "      <th></th>\n",
              "      <th></th>\n",
              "      <th></th>\n",
              "      <th></th>\n",
              "      <th></th>\n",
              "      <th></th>\n",
              "      <th></th>\n",
              "      <th></th>\n",
              "      <th></th>\n",
              "      <th></th>\n",
              "      <th></th>\n",
              "    </tr>\n",
              "  </thead>\n",
              "  <tbody>\n",
              "    <tr>\n",
              "      <th>0</th>\n",
              "      <td>1072.0</td>\n",
              "      <td>1794.024195</td>\n",
              "      <td>1982.950586</td>\n",
              "      <td>0.000000</td>\n",
              "      <td>506.925348</td>\n",
              "      <td>1087.920500</td>\n",
              "      <td>2308.762488</td>\n",
              "      <td>14581.459140</td>\n",
              "      <td>1072.0</td>\n",
              "      <td>0.862131</td>\n",
              "      <td>0.231233</td>\n",
              "      <td>0.000000</td>\n",
              "      <td>0.818182</td>\n",
              "      <td>1.0</td>\n",
              "      <td>1.0</td>\n",
              "      <td>1.0</td>\n",
              "      <td>1072.0</td>\n",
              "      <td>475.494823</td>\n",
              "      <td>1190.532664</td>\n",
              "      <td>0.00</td>\n",
              "      <td>0.00</td>\n",
              "      <td>35.765</td>\n",
              "      <td>496.7750</td>\n",
              "      <td>22101.78</td>\n",
              "      <td>1072.0</td>\n",
              "      <td>286.705942</td>\n",
              "      <td>965.179460</td>\n",
              "      <td>0.0</td>\n",
              "      <td>0.00</td>\n",
              "      <td>0.00</td>\n",
              "      <td>231.1475</td>\n",
              "      <td>22101.78</td>\n",
              "      <td>1072.0</td>\n",
              "      <td>188.841791</td>\n",
              "      <td>506.179821</td>\n",
              "      <td>0.0</td>\n",
              "      <td>0.0</td>\n",
              "      <td>0.000</td>\n",
              "      <td>143.7700</td>\n",
              "      <td>8409.93</td>\n",
              "      <td>...</td>\n",
              "      <td>1072.0</td>\n",
              "      <td>7.333022</td>\n",
              "      <td>18.311449</td>\n",
              "      <td>0.0</td>\n",
              "      <td>0.00</td>\n",
              "      <td>1.0</td>\n",
              "      <td>8.0</td>\n",
              "      <td>308.0</td>\n",
              "      <td>1072.0</td>\n",
              "      <td>3976.372399</td>\n",
              "      <td>3513.788057</td>\n",
              "      <td>50.0</td>\n",
              "      <td>1500.0</td>\n",
              "      <td>2500.0</td>\n",
              "      <td>5625.0</td>\n",
              "      <td>21000.0</td>\n",
              "      <td>1072.0</td>\n",
              "      <td>4709.556601</td>\n",
              "      <td>5009.135552</td>\n",
              "      <td>193.747321</td>\n",
              "      <td>1681.143558</td>\n",
              "      <td>3056.571524</td>\n",
              "      <td>5964.304792</td>\n",
              "      <td>40627.595240</td>\n",
              "      <td>1072.0</td>\n",
              "      <td>734.234709</td>\n",
              "      <td>1120.657819</td>\n",
              "      <td>1.334075</td>\n",
              "      <td>221.291629</td>\n",
              "      <td>442.555689</td>\n",
              "      <td>884.718306</td>\n",
              "      <td>21235.065300</td>\n",
              "      <td>1072.0</td>\n",
              "      <td>0.117384</td>\n",
              "      <td>0.186853</td>\n",
              "      <td>0.0</td>\n",
              "      <td>0.0</td>\n",
              "      <td>0.083333</td>\n",
              "      <td>0.142857</td>\n",
              "      <td>1.0</td>\n",
              "    </tr>\n",
              "    <tr>\n",
              "      <th>1</th>\n",
              "      <td>2649.0</td>\n",
              "      <td>3037.962543</td>\n",
              "      <td>2478.838161</td>\n",
              "      <td>6.824905</td>\n",
              "      <td>1256.612223</td>\n",
              "      <td>2174.018945</td>\n",
              "      <td>4223.867789</td>\n",
              "      <td>18495.558550</td>\n",
              "      <td>2649.0</td>\n",
              "      <td>0.963740</td>\n",
              "      <td>0.121784</td>\n",
              "      <td>0.090909</td>\n",
              "      <td>1.000000</td>\n",
              "      <td>1.0</td>\n",
              "      <td>1.0</td>\n",
              "      <td>1.0</td>\n",
              "      <td>2649.0</td>\n",
              "      <td>385.248630</td>\n",
              "      <td>776.751711</td>\n",
              "      <td>0.00</td>\n",
              "      <td>0.00</td>\n",
              "      <td>62.020</td>\n",
              "      <td>435.0400</td>\n",
              "      <td>7823.74</td>\n",
              "      <td>2649.0</td>\n",
              "      <td>232.969339</td>\n",
              "      <td>554.167957</td>\n",
              "      <td>0.0</td>\n",
              "      <td>0.00</td>\n",
              "      <td>0.00</td>\n",
              "      <td>200.5100</td>\n",
              "      <td>7564.81</td>\n",
              "      <td>2649.0</td>\n",
              "      <td>152.368543</td>\n",
              "      <td>378.128453</td>\n",
              "      <td>0.0</td>\n",
              "      <td>0.0</td>\n",
              "      <td>0.000</td>\n",
              "      <td>122.0000</td>\n",
              "      <td>4092.67</td>\n",
              "      <td>...</td>\n",
              "      <td>2649.0</td>\n",
              "      <td>7.189128</td>\n",
              "      <td>15.120591</td>\n",
              "      <td>0.0</td>\n",
              "      <td>0.00</td>\n",
              "      <td>1.0</td>\n",
              "      <td>9.0</td>\n",
              "      <td>208.0</td>\n",
              "      <td>2649.0</td>\n",
              "      <td>4495.771989</td>\n",
              "      <td>3606.189483</td>\n",
              "      <td>200.0</td>\n",
              "      <td>1700.0</td>\n",
              "      <td>3000.0</td>\n",
              "      <td>6500.0</td>\n",
              "      <td>22000.0</td>\n",
              "      <td>2649.0</td>\n",
              "      <td>968.890376</td>\n",
              "      <td>920.253083</td>\n",
              "      <td>0.000000</td>\n",
              "      <td>377.255832</td>\n",
              "      <td>678.334763</td>\n",
              "      <td>1289.284068</td>\n",
              "      <td>11123.409180</td>\n",
              "      <td>2649.0</td>\n",
              "      <td>1022.143477</td>\n",
              "      <td>906.516526</td>\n",
              "      <td>67.786744</td>\n",
              "      <td>405.644986</td>\n",
              "      <td>710.889925</td>\n",
              "      <td>1330.593643</td>\n",
              "      <td>8345.641905</td>\n",
              "      <td>2649.0</td>\n",
              "      <td>0.001799</td>\n",
              "      <td>0.023260</td>\n",
              "      <td>0.0</td>\n",
              "      <td>0.0</td>\n",
              "      <td>0.000000</td>\n",
              "      <td>0.000000</td>\n",
              "      <td>0.6</td>\n",
              "    </tr>\n",
              "    <tr>\n",
              "      <th>2</th>\n",
              "      <td>3276.0</td>\n",
              "      <td>444.212219</td>\n",
              "      <td>846.809334</td>\n",
              "      <td>0.000000</td>\n",
              "      <td>23.287145</td>\n",
              "      <td>82.992153</td>\n",
              "      <td>411.833075</td>\n",
              "      <td>9630.367575</td>\n",
              "      <td>3276.0</td>\n",
              "      <td>0.774280</td>\n",
              "      <td>0.301799</td>\n",
              "      <td>0.000000</td>\n",
              "      <td>0.545455</td>\n",
              "      <td>1.0</td>\n",
              "      <td>1.0</td>\n",
              "      <td>1.0</td>\n",
              "      <td>3276.0</td>\n",
              "      <td>629.173858</td>\n",
              "      <td>759.438414</td>\n",
              "      <td>0.00</td>\n",
              "      <td>133.00</td>\n",
              "      <td>363.450</td>\n",
              "      <td>834.3125</td>\n",
              "      <td>6407.67</td>\n",
              "      <td>3276.0</td>\n",
              "      <td>314.458440</td>\n",
              "      <td>566.731009</td>\n",
              "      <td>0.0</td>\n",
              "      <td>0.00</td>\n",
              "      <td>26.57</td>\n",
              "      <td>408.2150</td>\n",
              "      <td>6300.40</td>\n",
              "      <td>3276.0</td>\n",
              "      <td>315.050714</td>\n",
              "      <td>440.485781</td>\n",
              "      <td>0.0</td>\n",
              "      <td>0.0</td>\n",
              "      <td>166.505</td>\n",
              "      <td>427.5425</td>\n",
              "      <td>4116.00</td>\n",
              "      <td>...</td>\n",
              "      <td>3276.0</td>\n",
              "      <td>11.952991</td>\n",
              "      <td>14.085830</td>\n",
              "      <td>0.0</td>\n",
              "      <td>3.00</td>\n",
              "      <td>8.0</td>\n",
              "      <td>15.0</td>\n",
              "      <td>232.0</td>\n",
              "      <td>3276.0</td>\n",
              "      <td>5134.705973</td>\n",
              "      <td>3699.514129</td>\n",
              "      <td>300.0</td>\n",
              "      <td>2500.0</td>\n",
              "      <td>4000.0</td>\n",
              "      <td>7000.0</td>\n",
              "      <td>30000.0</td>\n",
              "      <td>3276.0</td>\n",
              "      <td>814.396458</td>\n",
              "      <td>964.027640</td>\n",
              "      <td>0.000000</td>\n",
              "      <td>220.347075</td>\n",
              "      <td>498.690311</td>\n",
              "      <td>1047.179868</td>\n",
              "      <td>8946.495566</td>\n",
              "      <td>3276.0</td>\n",
              "      <td>228.609769</td>\n",
              "      <td>236.721088</td>\n",
              "      <td>0.019163</td>\n",
              "      <td>119.943089</td>\n",
              "      <td>171.617668</td>\n",
              "      <td>248.900782</td>\n",
              "      <td>4483.503862</td>\n",
              "      <td>3276.0</td>\n",
              "      <td>0.246293</td>\n",
              "      <td>0.346454</td>\n",
              "      <td>0.0</td>\n",
              "      <td>0.0</td>\n",
              "      <td>0.000000</td>\n",
              "      <td>0.444444</td>\n",
              "      <td>1.0</td>\n",
              "    </tr>\n",
              "    <tr>\n",
              "      <th>3</th>\n",
              "      <td>1541.0</td>\n",
              "      <td>1140.395363</td>\n",
              "      <td>1663.836536</td>\n",
              "      <td>0.000000</td>\n",
              "      <td>209.490297</td>\n",
              "      <td>552.464447</td>\n",
              "      <td>1369.969909</td>\n",
              "      <td>19043.138560</td>\n",
              "      <td>1541.0</td>\n",
              "      <td>0.928099</td>\n",
              "      <td>0.166242</td>\n",
              "      <td>0.000000</td>\n",
              "      <td>1.000000</td>\n",
              "      <td>1.0</td>\n",
              "      <td>1.0</td>\n",
              "      <td>1.0</td>\n",
              "      <td>1541.0</td>\n",
              "      <td>3266.466710</td>\n",
              "      <td>4073.402468</td>\n",
              "      <td>100.98</td>\n",
              "      <td>1137.55</td>\n",
              "      <td>2129.440</td>\n",
              "      <td>3866.2900</td>\n",
              "      <td>49039.57</td>\n",
              "      <td>1541.0</td>\n",
              "      <td>2123.169909</td>\n",
              "      <td>3354.982908</td>\n",
              "      <td>0.0</td>\n",
              "      <td>396.51</td>\n",
              "      <td>1242.90</td>\n",
              "      <td>2549.6500</td>\n",
              "      <td>40761.25</td>\n",
              "      <td>1541.0</td>\n",
              "      <td>1143.912635</td>\n",
              "      <td>1688.682655</td>\n",
              "      <td>0.0</td>\n",
              "      <td>169.0</td>\n",
              "      <td>677.610</td>\n",
              "      <td>1443.1200</td>\n",
              "      <td>22500.00</td>\n",
              "      <td>...</td>\n",
              "      <td>1541.0</td>\n",
              "      <td>37.861778</td>\n",
              "      <td>41.225903</td>\n",
              "      <td>0.0</td>\n",
              "      <td>12.00</td>\n",
              "      <td>25.0</td>\n",
              "      <td>48.0</td>\n",
              "      <td>358.0</td>\n",
              "      <td>1541.0</td>\n",
              "      <td>4096.794388</td>\n",
              "      <td>3639.711375</td>\n",
              "      <td>200.0</td>\n",
              "      <td>1500.0</td>\n",
              "      <td>3000.0</td>\n",
              "      <td>6000.0</td>\n",
              "      <td>30000.0</td>\n",
              "      <td>1541.0</td>\n",
              "      <td>3034.900772</td>\n",
              "      <td>4069.898429</td>\n",
              "      <td>0.000000</td>\n",
              "      <td>938.376189</td>\n",
              "      <td>1880.266926</td>\n",
              "      <td>3716.880684</td>\n",
              "      <td>50721.483360</td>\n",
              "      <td>1541.0</td>\n",
              "      <td>540.496070</td>\n",
              "      <td>1109.801812</td>\n",
              "      <td>14.012997</td>\n",
              "      <td>168.805075</td>\n",
              "      <td>218.581641</td>\n",
              "      <td>523.422296</td>\n",
              "      <td>18621.013310</td>\n",
              "      <td>1541.0</td>\n",
              "      <td>0.279266</td>\n",
              "      <td>0.367477</td>\n",
              "      <td>0.0</td>\n",
              "      <td>0.0</td>\n",
              "      <td>0.083333</td>\n",
              "      <td>0.545455</td>\n",
              "      <td>1.0</td>\n",
              "    </tr>\n",
              "    <tr>\n",
              "      <th>4</th>\n",
              "      <td>412.0</td>\n",
              "      <td>1987.146873</td>\n",
              "      <td>1852.215743</td>\n",
              "      <td>70.794108</td>\n",
              "      <td>1020.146724</td>\n",
              "      <td>1338.918346</td>\n",
              "      <td>2133.415063</td>\n",
              "      <td>11670.179850</td>\n",
              "      <td>412.0</td>\n",
              "      <td>0.989512</td>\n",
              "      <td>0.046329</td>\n",
              "      <td>0.636364</td>\n",
              "      <td>1.000000</td>\n",
              "      <td>1.0</td>\n",
              "      <td>1.0</td>\n",
              "      <td>1.0</td>\n",
              "      <td>412.0</td>\n",
              "      <td>858.326286</td>\n",
              "      <td>1234.466309</td>\n",
              "      <td>0.00</td>\n",
              "      <td>150.00</td>\n",
              "      <td>499.440</td>\n",
              "      <td>1052.0325</td>\n",
              "      <td>11147.33</td>\n",
              "      <td>412.0</td>\n",
              "      <td>184.124369</td>\n",
              "      <td>453.488371</td>\n",
              "      <td>0.0</td>\n",
              "      <td>0.00</td>\n",
              "      <td>0.00</td>\n",
              "      <td>150.3550</td>\n",
              "      <td>4020.33</td>\n",
              "      <td>412.0</td>\n",
              "      <td>675.041845</td>\n",
              "      <td>1126.959148</td>\n",
              "      <td>0.0</td>\n",
              "      <td>0.0</td>\n",
              "      <td>339.720</td>\n",
              "      <td>841.1725</td>\n",
              "      <td>10009.93</td>\n",
              "      <td>...</td>\n",
              "      <td>412.0</td>\n",
              "      <td>17.584951</td>\n",
              "      <td>23.935844</td>\n",
              "      <td>0.0</td>\n",
              "      <td>3.75</td>\n",
              "      <td>12.0</td>\n",
              "      <td>21.0</td>\n",
              "      <td>199.0</td>\n",
              "      <td>412.0</td>\n",
              "      <td>2226.699029</td>\n",
              "      <td>1976.603609</td>\n",
              "      <td>150.0</td>\n",
              "      <td>1000.0</td>\n",
              "      <td>1500.0</td>\n",
              "      <td>2500.0</td>\n",
              "      <td>11500.0</td>\n",
              "      <td>412.0</td>\n",
              "      <td>1338.974045</td>\n",
              "      <td>1440.334414</td>\n",
              "      <td>27.832777</td>\n",
              "      <td>437.354287</td>\n",
              "      <td>865.240409</td>\n",
              "      <td>1615.882236</td>\n",
              "      <td>8735.607835</td>\n",
              "      <td>412.0</td>\n",
              "      <td>6032.349113</td>\n",
              "      <td>8618.459711</td>\n",
              "      <td>201.615417</td>\n",
              "      <td>1526.671059</td>\n",
              "      <td>3006.480101</td>\n",
              "      <td>7086.774783</td>\n",
              "      <td>76406.207520</td>\n",
              "      <td>412.0</td>\n",
              "      <td>0.019271</td>\n",
              "      <td>0.090795</td>\n",
              "      <td>0.0</td>\n",
              "      <td>0.0</td>\n",
              "      <td>0.000000</td>\n",
              "      <td>0.000000</td>\n",
              "      <td>1.0</td>\n",
              "    </tr>\n",
              "  </tbody>\n",
              "</table>\n",
              "<p>5 rows × 128 columns</p>\n",
              "</div>"
            ],
            "text/plain": [
              "        BALANCE                            ... PRC_FULL_PAYMENT               \n",
              "          count         mean          std  ...              50%       75%  max\n",
              "cluster                                    ...                                \n",
              "0        1072.0  1794.024195  1982.950586  ...         0.083333  0.142857  1.0\n",
              "1        2649.0  3037.962543  2478.838161  ...         0.000000  0.000000  0.6\n",
              "2        3276.0   444.212219   846.809334  ...         0.000000  0.444444  1.0\n",
              "3        1541.0  1140.395363  1663.836536  ...         0.083333  0.545455  1.0\n",
              "4         412.0  1987.146873  1852.215743  ...         0.000000  0.000000  1.0\n",
              "\n",
              "[5 rows x 128 columns]"
            ]
          },
          "metadata": {},
          "execution_count": 18
        }
      ]
    },
    {
      "cell_type": "code",
      "metadata": {
        "id": "0J4P_zbaAyqb",
        "outputId": "9b6d07dc-ca28-412b-ef38-22912d760c13",
        "colab": {
          "base_uri": "https://localhost:8080/"
        }
      },
      "source": [
        "centroids = kmeans.cluster_centers_\n",
        "print(centroids)"
      ],
      "execution_count": 19,
      "outputs": [
        {
          "output_type": "stream",
          "name": "stdout",
          "text": [
            "[[2.35141479e-01 2.16555293e-04 6.03857074e-02 3.44170171e-02\n",
            "  2.59739049e-02 4.00128071e-01 5.26401668e-05 2.04882397e-05\n",
            "  3.51921361e-05 6.54864556e-05 1.57199032e-03 1.12217156e-03\n",
            "  5.35089146e-01 5.98040052e-01 1.04348171e-01 2.77498236e-05]\n",
            " [5.04289599e-01 2.72275541e-04 6.17031152e-02 3.61472866e-02\n",
            "  2.55775500e-02 2.52998524e-01 6.73317111e-05 2.56982515e-05\n",
            "  4.50750034e-05 5.74605324e-05 1.15731022e-03 1.33218565e-03\n",
            "  7.19155598e-01 1.66164956e-01 1.79275871e-01 5.52512128e-07]\n",
            " [6.91172082e-02 2.30558192e-04 1.21221061e-01 4.79941328e-02\n",
            "  7.33273099e-02 2.43612925e-02 1.72569863e-04 3.36877097e-05\n",
            "  1.40000012e-04 7.93012041e-06 1.24086835e-04 2.85723913e-03\n",
            "  9.43757893e-01 1.53487867e-01 5.68276323e-02 7.58208708e-05]\n",
            " [1.59738813e-01 2.45539530e-04 4.37899142e-01 2.56417561e-01\n",
            "  1.81652647e-01 2.57868915e-02 2.04724593e-04 8.88180408e-05\n",
            "  1.51100049e-04 9.36834144e-06 1.69378578e-04 6.17391999e-03\n",
            "  6.04768068e-01 4.02440755e-01 8.52026617e-02 7.26174325e-05]\n",
            " [3.32972556e-01 2.68240066e-04 1.58923673e-01 3.62178588e-02\n",
            "  1.23089552e-01 5.82140753e-02 1.66817881e-04 2.64295391e-05\n",
            "  1.47135264e-04 1.92748591e-05 4.26896159e-04 3.86195702e-03\n",
            "  3.76646957e-01 2.52402941e-01 6.79571553e-01 4.22964707e-06]]\n"
          ]
        }
      ]
    },
    {
      "cell_type": "code",
      "metadata": {
        "id": "GojwbXoHB4IH",
        "outputId": "34f16b28-9f07-4648-bf39-f15de9aa1231",
        "colab": {
          "base_uri": "https://localhost:8080/"
        }
      },
      "source": [
        "max = len(centroids[0])\n",
        "\n",
        "for i in range(max):\n",
        "  print(f'{dataframe.columns.values[i]:35}  {centroids[:, i].var():.6f}')\n"
      ],
      "execution_count": 31,
      "outputs": [
        {
          "output_type": "stream",
          "name": "stdout",
          "text": [
            "BALANCE                              0.022422\n",
            "BALANCE_FREQUENCY                    0.000000\n",
            "PURCHASES                            0.019599\n",
            "ONEOFF_PURCHASES                     0.007608\n",
            "INSTALLMENTS_PURCHASES               0.003588\n",
            "CASH_ADVANCE                         0.022557\n",
            "PURCHASES_FREQUENCY                  0.000000\n",
            "ONEOFF_PURCHASES_FREQUENCY           0.000000\n",
            "PURCHASES_INSTALLMENTS_FREQUENCY     0.000000\n",
            "CASH_ADVANCE_FREQUENCY               0.000000\n",
            "CASH_ADVANCE_TRX                     0.000000\n",
            "PURCHASES_TRX                        0.000003\n",
            "CREDIT_LIMIT                         0.036010\n",
            "PAYMENTS                             0.027983\n",
            "MINIMUM_PAYMENTS                     0.054206\n",
            "PRC_FULL_PAYMENT                     0.000000\n"
          ]
        }
      ]
    },
    {
      "cell_type": "code",
      "metadata": {
        "id": "IxaxOBnaC78i",
        "outputId": "aa3a250c-343d-4393-b344-0c0f068e1e73",
        "colab": {
          "base_uri": "https://localhost:8080/",
          "height": 232
        }
      },
      "source": [
        "description = dataframe.groupby(\"cluster\")[[\"BALANCE\", \"PURCHASES\", \"CASH_ADVANCE\", \"CREDIT_LIMIT\", \"PAYMENTS\"]]\n",
        "n_clients = description.size()\n",
        "description = description.mean()\n",
        "description['n_clients'] = n_clients\n",
        "description"
      ],
      "execution_count": 48,
      "outputs": [
        {
          "output_type": "execute_result",
          "data": {
            "text/html": [
              "<div>\n",
              "<style scoped>\n",
              "    .dataframe tbody tr th:only-of-type {\n",
              "        vertical-align: middle;\n",
              "    }\n",
              "\n",
              "    .dataframe tbody tr th {\n",
              "        vertical-align: top;\n",
              "    }\n",
              "\n",
              "    .dataframe thead th {\n",
              "        text-align: right;\n",
              "    }\n",
              "</style>\n",
              "<table border=\"1\" class=\"dataframe\">\n",
              "  <thead>\n",
              "    <tr style=\"text-align: right;\">\n",
              "      <th></th>\n",
              "      <th>BALANCE</th>\n",
              "      <th>PURCHASES</th>\n",
              "      <th>CASH_ADVANCE</th>\n",
              "      <th>CREDIT_LIMIT</th>\n",
              "      <th>PAYMENTS</th>\n",
              "      <th>n_clients</th>\n",
              "    </tr>\n",
              "    <tr>\n",
              "      <th>cluster</th>\n",
              "      <th></th>\n",
              "      <th></th>\n",
              "      <th></th>\n",
              "      <th></th>\n",
              "      <th></th>\n",
              "      <th></th>\n",
              "    </tr>\n",
              "  </thead>\n",
              "  <tbody>\n",
              "    <tr>\n",
              "      <th>0</th>\n",
              "      <td>1794.024195</td>\n",
              "      <td>475.494823</td>\n",
              "      <td>3270.246792</td>\n",
              "      <td>3976.372399</td>\n",
              "      <td>4709.556601</td>\n",
              "      <td>1072</td>\n",
              "    </tr>\n",
              "    <tr>\n",
              "      <th>1</th>\n",
              "      <td>3037.962543</td>\n",
              "      <td>385.248630</td>\n",
              "      <td>1636.917210</td>\n",
              "      <td>4495.771989</td>\n",
              "      <td>968.890376</td>\n",
              "      <td>2649</td>\n",
              "    </tr>\n",
              "    <tr>\n",
              "      <th>2</th>\n",
              "      <td>444.212219</td>\n",
              "      <td>629.173858</td>\n",
              "      <td>141.655729</td>\n",
              "      <td>5134.705973</td>\n",
              "      <td>814.396458</td>\n",
              "      <td>3276</td>\n",
              "    </tr>\n",
              "    <tr>\n",
              "      <th>3</th>\n",
              "      <td>1140.395363</td>\n",
              "      <td>3266.466710</td>\n",
              "      <td>182.900631</td>\n",
              "      <td>4096.794388</td>\n",
              "      <td>3034.900772</td>\n",
              "      <td>1541</td>\n",
              "    </tr>\n",
              "    <tr>\n",
              "      <th>4</th>\n",
              "      <td>1987.146873</td>\n",
              "      <td>858.326286</td>\n",
              "      <td>420.107194</td>\n",
              "      <td>2226.699029</td>\n",
              "      <td>1338.974045</td>\n",
              "      <td>412</td>\n",
              "    </tr>\n",
              "  </tbody>\n",
              "</table>\n",
              "</div>"
            ],
            "text/plain": [
              "             BALANCE    PURCHASES  ...     PAYMENTS  n_clients\n",
              "cluster                            ...                        \n",
              "0        1794.024195   475.494823  ...  4709.556601       1072\n",
              "1        3037.962543   385.248630  ...   968.890376       2649\n",
              "2         444.212219   629.173858  ...   814.396458       3276\n",
              "3        1140.395363  3266.466710  ...  3034.900772       1541\n",
              "4        1987.146873   858.326286  ...  1338.974045        412\n",
              "\n",
              "[5 rows x 6 columns]"
            ]
          },
          "metadata": {},
          "execution_count": 48
        }
      ]
    },
    {
      "cell_type": "code",
      "metadata": {
        "id": "KHesxk5nFaLP",
        "outputId": "effb3d0b-f31f-4f9f-ca07-8bae580cf441",
        "colab": {
          "base_uri": "https://localhost:8080/"
        }
      },
      "source": [
        ""
      ],
      "execution_count": 47,
      "outputs": [
        {
          "output_type": "execute_result",
          "data": {
            "text/plain": [
              "cluster\n",
              "0    1072\n",
              "1    2649\n",
              "2    3276\n",
              "3    1541\n",
              "4     412\n",
              "dtype: int64"
            ]
          },
          "metadata": {},
          "execution_count": 47
        }
      ]
    },
    {
      "cell_type": "markdown",
      "metadata": {
        "id": "tKe6yo8ZJEwu"
      },
      "source": [
        "# Aula 9"
      ]
    },
    {
      "cell_type": "markdown",
      "metadata": {
        "id": "H6nBLC7jJY5-"
      },
      "source": [
        "CLUSTER 0: Pagam as vezes\n",
        "\n",
        "CLUSTER 1: Clientes com os maiores calores em gastos. Menor valores em compras. Piores pagadores\n",
        "\n",
        "\n",
        "CLUSTER 2: Clientes com os menos valores em gastos.\n",
        "\n",
        "CLUSTER 3: Maior valor em compras com grande diferença\n",
        "\n",
        "CLUSTER 4: Piores pagadores"
      ]
    },
    {
      "cell_type": "code",
      "metadata": {
        "id": "E6mfdckmG29q",
        "outputId": "dd9eac26-87cc-4425-9b42-583ee78cc61c",
        "colab": {
          "base_uri": "https://localhost:8080/",
          "height": 232
        }
      },
      "source": [
        "dataframe.groupby(\"cluster\")[\"PRC_FULL_PAYMENT\"].describe()"
      ],
      "execution_count": 53,
      "outputs": [
        {
          "output_type": "execute_result",
          "data": {
            "text/html": [
              "<div>\n",
              "<style scoped>\n",
              "    .dataframe tbody tr th:only-of-type {\n",
              "        vertical-align: middle;\n",
              "    }\n",
              "\n",
              "    .dataframe tbody tr th {\n",
              "        vertical-align: top;\n",
              "    }\n",
              "\n",
              "    .dataframe thead th {\n",
              "        text-align: right;\n",
              "    }\n",
              "</style>\n",
              "<table border=\"1\" class=\"dataframe\">\n",
              "  <thead>\n",
              "    <tr style=\"text-align: right;\">\n",
              "      <th></th>\n",
              "      <th>count</th>\n",
              "      <th>mean</th>\n",
              "      <th>std</th>\n",
              "      <th>min</th>\n",
              "      <th>25%</th>\n",
              "      <th>50%</th>\n",
              "      <th>75%</th>\n",
              "      <th>max</th>\n",
              "    </tr>\n",
              "    <tr>\n",
              "      <th>cluster</th>\n",
              "      <th></th>\n",
              "      <th></th>\n",
              "      <th></th>\n",
              "      <th></th>\n",
              "      <th></th>\n",
              "      <th></th>\n",
              "      <th></th>\n",
              "      <th></th>\n",
              "    </tr>\n",
              "  </thead>\n",
              "  <tbody>\n",
              "    <tr>\n",
              "      <th>0</th>\n",
              "      <td>1072.0</td>\n",
              "      <td>0.117384</td>\n",
              "      <td>0.186853</td>\n",
              "      <td>0.0</td>\n",
              "      <td>0.0</td>\n",
              "      <td>0.083333</td>\n",
              "      <td>0.142857</td>\n",
              "      <td>1.0</td>\n",
              "    </tr>\n",
              "    <tr>\n",
              "      <th>1</th>\n",
              "      <td>2649.0</td>\n",
              "      <td>0.001799</td>\n",
              "      <td>0.023260</td>\n",
              "      <td>0.0</td>\n",
              "      <td>0.0</td>\n",
              "      <td>0.000000</td>\n",
              "      <td>0.000000</td>\n",
              "      <td>0.6</td>\n",
              "    </tr>\n",
              "    <tr>\n",
              "      <th>2</th>\n",
              "      <td>3276.0</td>\n",
              "      <td>0.246293</td>\n",
              "      <td>0.346454</td>\n",
              "      <td>0.0</td>\n",
              "      <td>0.0</td>\n",
              "      <td>0.000000</td>\n",
              "      <td>0.444444</td>\n",
              "      <td>1.0</td>\n",
              "    </tr>\n",
              "    <tr>\n",
              "      <th>3</th>\n",
              "      <td>1541.0</td>\n",
              "      <td>0.279266</td>\n",
              "      <td>0.367477</td>\n",
              "      <td>0.0</td>\n",
              "      <td>0.0</td>\n",
              "      <td>0.083333</td>\n",
              "      <td>0.545455</td>\n",
              "      <td>1.0</td>\n",
              "    </tr>\n",
              "    <tr>\n",
              "      <th>4</th>\n",
              "      <td>412.0</td>\n",
              "      <td>0.019271</td>\n",
              "      <td>0.090795</td>\n",
              "      <td>0.0</td>\n",
              "      <td>0.0</td>\n",
              "      <td>0.000000</td>\n",
              "      <td>0.000000</td>\n",
              "      <td>1.0</td>\n",
              "    </tr>\n",
              "  </tbody>\n",
              "</table>\n",
              "</div>"
            ],
            "text/plain": [
              "          count      mean       std  min  25%       50%       75%  max\n",
              "cluster                                                               \n",
              "0        1072.0  0.117384  0.186853  0.0  0.0  0.083333  0.142857  1.0\n",
              "1        2649.0  0.001799  0.023260  0.0  0.0  0.000000  0.000000  0.6\n",
              "2        3276.0  0.246293  0.346454  0.0  0.0  0.000000  0.444444  1.0\n",
              "3        1541.0  0.279266  0.367477  0.0  0.0  0.083333  0.545455  1.0\n",
              "4         412.0  0.019271  0.090795  0.0  0.0  0.000000  0.000000  1.0"
            ]
          },
          "metadata": {},
          "execution_count": 53
        }
      ]
    },
    {
      "cell_type": "code",
      "metadata": {
        "id": "TeqNMvfTMV4x"
      },
      "source": [
        ""
      ],
      "execution_count": null,
      "outputs": []
    }
  ]
}